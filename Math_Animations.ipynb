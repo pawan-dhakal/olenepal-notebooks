{
 "cells": [
  {
   "cell_type": "code",
   "execution_count": 1,
   "metadata": {
    "colab": {
     "base_uri": "https://localhost:8080/",
     "height": 1000
    },
    "id": "LkQUkG8bE2i1",
    "outputId": "d7625736-a4c7-478b-ba38-759b90d5132b"
   },
   "outputs": [
    {
     "name": "stderr",
     "output_type": "stream",
     "text": [
      "'sudo' is not recognized as an internal or external command,\n",
      "operable program or batch file.\n",
      "'sudo' is not recognized as an internal or external command,\n",
      "operable program or batch file.\n"
     ]
    },
    {
     "name": "stdout",
     "output_type": "stream",
     "text": [
      "^C\n",
      "^C\n"
     ]
    }
   ],
   "source": [
    "!sudo apt update\n",
    "!sudo apt install libcairo2-dev ffmpeg \\\n",
    "    texlive texlive-latex-extra texlive-fonts-extra \\\n",
    "    texlive-latex-recommended texlive-science \\\n",
    "    tipa libpango1.0-dev\n",
    "!pip install manim\n",
    "!pip install IPython --upgrade"
   ]
  },
  {
   "cell_type": "code",
   "execution_count": null,
   "metadata": {},
   "outputs": [],
   "source": []
  },
  {
   "cell_type": "code",
   "execution_count": 5,
   "metadata": {
    "id": "RpyzmAg6E7NX"
   },
   "outputs": [
    {
     "name": "stderr",
     "output_type": "stream",
     "text": [
      "C:\\ProgramData\\Anaconda3\\lib\\site-packages\\pkg_resources\\__init__.py:126: PkgResourcesDeprecationWarning: ckaging is an invalid version and will not be supported in a future release\n",
      "  PkgResourcesDeprecationWarning,\n"
     ]
    },
    {
     "ename": "ContextualVersionConflict",
     "evalue": "(click 7.1.2 (c:\\programdata\\anaconda3\\lib\\site-packages), Requirement.parse('click>=7.2'), {'manim'})",
     "output_type": "error",
     "traceback": [
      "\u001b[1;31m---------------------------------------------------------------------------\u001b[0m",
      "\u001b[1;31mContextualVersionConflict\u001b[0m                 Traceback (most recent call last)",
      "\u001b[1;32m~\\AppData\\Local\\Temp\\ipykernel_18088\\3869147444.py\u001b[0m in \u001b[0;36m<module>\u001b[1;34m\u001b[0m\n\u001b[1;32m----> 1\u001b[1;33m \u001b[1;32mfrom\u001b[0m \u001b[0mmanim\u001b[0m \u001b[1;32mimport\u001b[0m \u001b[1;33m*\u001b[0m\u001b[1;33m\u001b[0m\u001b[1;33m\u001b[0m\u001b[0m\n\u001b[0m",
      "\u001b[1;32mC:\\ProgramData\\Anaconda3\\lib\\site-packages\\manim\\__init__.py\u001b[0m in \u001b[0;36m<module>\u001b[1;34m\u001b[0m\n\u001b[0;32m      6\u001b[0m \u001b[1;32mimport\u001b[0m \u001b[0mpkg_resources\u001b[0m\u001b[1;33m\u001b[0m\u001b[1;33m\u001b[0m\u001b[0m\n\u001b[0;32m      7\u001b[0m \u001b[1;33m\u001b[0m\u001b[0m\n\u001b[1;32m----> 8\u001b[1;33m \u001b[0m__version__\u001b[0m\u001b[1;33m:\u001b[0m \u001b[0mstr\u001b[0m \u001b[1;33m=\u001b[0m \u001b[0mpkg_resources\u001b[0m\u001b[1;33m.\u001b[0m\u001b[0mget_distribution\u001b[0m\u001b[1;33m(\u001b[0m\u001b[0m__name__\u001b[0m\u001b[1;33m)\u001b[0m\u001b[1;33m.\u001b[0m\u001b[0mversion\u001b[0m\u001b[1;33m\u001b[0m\u001b[1;33m\u001b[0m\u001b[0m\n\u001b[0m\u001b[0;32m      9\u001b[0m \u001b[1;33m\u001b[0m\u001b[0m\n\u001b[0;32m     10\u001b[0m \u001b[1;33m\u001b[0m\u001b[0m\n",
      "\u001b[1;32mC:\\ProgramData\\Anaconda3\\lib\\site-packages\\pkg_resources\\__init__.py\u001b[0m in \u001b[0;36mget_distribution\u001b[1;34m(dist)\u001b[0m\n\u001b[0;32m    476\u001b[0m         \u001b[0mdist\u001b[0m \u001b[1;33m=\u001b[0m \u001b[0mRequirement\u001b[0m\u001b[1;33m.\u001b[0m\u001b[0mparse\u001b[0m\u001b[1;33m(\u001b[0m\u001b[0mdist\u001b[0m\u001b[1;33m)\u001b[0m\u001b[1;33m\u001b[0m\u001b[1;33m\u001b[0m\u001b[0m\n\u001b[0;32m    477\u001b[0m     \u001b[1;32mif\u001b[0m \u001b[0misinstance\u001b[0m\u001b[1;33m(\u001b[0m\u001b[0mdist\u001b[0m\u001b[1;33m,\u001b[0m \u001b[0mRequirement\u001b[0m\u001b[1;33m)\u001b[0m\u001b[1;33m:\u001b[0m\u001b[1;33m\u001b[0m\u001b[1;33m\u001b[0m\u001b[0m\n\u001b[1;32m--> 478\u001b[1;33m         \u001b[0mdist\u001b[0m \u001b[1;33m=\u001b[0m \u001b[0mget_provider\u001b[0m\u001b[1;33m(\u001b[0m\u001b[0mdist\u001b[0m\u001b[1;33m)\u001b[0m\u001b[1;33m\u001b[0m\u001b[1;33m\u001b[0m\u001b[0m\n\u001b[0m\u001b[0;32m    479\u001b[0m     \u001b[1;32mif\u001b[0m \u001b[1;32mnot\u001b[0m \u001b[0misinstance\u001b[0m\u001b[1;33m(\u001b[0m\u001b[0mdist\u001b[0m\u001b[1;33m,\u001b[0m \u001b[0mDistribution\u001b[0m\u001b[1;33m)\u001b[0m\u001b[1;33m:\u001b[0m\u001b[1;33m\u001b[0m\u001b[1;33m\u001b[0m\u001b[0m\n\u001b[0;32m    480\u001b[0m         \u001b[1;32mraise\u001b[0m \u001b[0mTypeError\u001b[0m\u001b[1;33m(\u001b[0m\u001b[1;34m\"Expected string, Requirement, or Distribution\"\u001b[0m\u001b[1;33m,\u001b[0m \u001b[0mdist\u001b[0m\u001b[1;33m)\u001b[0m\u001b[1;33m\u001b[0m\u001b[1;33m\u001b[0m\u001b[0m\n",
      "\u001b[1;32mC:\\ProgramData\\Anaconda3\\lib\\site-packages\\pkg_resources\\__init__.py\u001b[0m in \u001b[0;36mget_provider\u001b[1;34m(moduleOrReq)\u001b[0m\n\u001b[0;32m    352\u001b[0m     \u001b[1;34m\"\"\"Return an IResourceProvider for the named module or requirement\"\"\"\u001b[0m\u001b[1;33m\u001b[0m\u001b[1;33m\u001b[0m\u001b[0m\n\u001b[0;32m    353\u001b[0m     \u001b[1;32mif\u001b[0m \u001b[0misinstance\u001b[0m\u001b[1;33m(\u001b[0m\u001b[0mmoduleOrReq\u001b[0m\u001b[1;33m,\u001b[0m \u001b[0mRequirement\u001b[0m\u001b[1;33m)\u001b[0m\u001b[1;33m:\u001b[0m\u001b[1;33m\u001b[0m\u001b[1;33m\u001b[0m\u001b[0m\n\u001b[1;32m--> 354\u001b[1;33m         \u001b[1;32mreturn\u001b[0m \u001b[0mworking_set\u001b[0m\u001b[1;33m.\u001b[0m\u001b[0mfind\u001b[0m\u001b[1;33m(\u001b[0m\u001b[0mmoduleOrReq\u001b[0m\u001b[1;33m)\u001b[0m \u001b[1;32mor\u001b[0m \u001b[0mrequire\u001b[0m\u001b[1;33m(\u001b[0m\u001b[0mstr\u001b[0m\u001b[1;33m(\u001b[0m\u001b[0mmoduleOrReq\u001b[0m\u001b[1;33m)\u001b[0m\u001b[1;33m)\u001b[0m\u001b[1;33m[\u001b[0m\u001b[1;36m0\u001b[0m\u001b[1;33m]\u001b[0m\u001b[1;33m\u001b[0m\u001b[1;33m\u001b[0m\u001b[0m\n\u001b[0m\u001b[0;32m    355\u001b[0m     \u001b[1;32mtry\u001b[0m\u001b[1;33m:\u001b[0m\u001b[1;33m\u001b[0m\u001b[1;33m\u001b[0m\u001b[0m\n\u001b[0;32m    356\u001b[0m         \u001b[0mmodule\u001b[0m \u001b[1;33m=\u001b[0m \u001b[0msys\u001b[0m\u001b[1;33m.\u001b[0m\u001b[0mmodules\u001b[0m\u001b[1;33m[\u001b[0m\u001b[0mmoduleOrReq\u001b[0m\u001b[1;33m]\u001b[0m\u001b[1;33m\u001b[0m\u001b[1;33m\u001b[0m\u001b[0m\n",
      "\u001b[1;32mC:\\ProgramData\\Anaconda3\\lib\\site-packages\\pkg_resources\\__init__.py\u001b[0m in \u001b[0;36mrequire\u001b[1;34m(self, *requirements)\u001b[0m\n\u001b[0;32m    907\u001b[0m         \u001b[0mincluded\u001b[0m\u001b[1;33m,\u001b[0m \u001b[0meven\u001b[0m \u001b[1;32mif\u001b[0m \u001b[0mthey\u001b[0m \u001b[0mwere\u001b[0m \u001b[0malready\u001b[0m \u001b[0mactivated\u001b[0m \u001b[1;32min\u001b[0m \u001b[0mthis\u001b[0m \u001b[0mworking\u001b[0m \u001b[0mset\u001b[0m\u001b[1;33m.\u001b[0m\u001b[1;33m\u001b[0m\u001b[1;33m\u001b[0m\u001b[0m\n\u001b[0;32m    908\u001b[0m         \"\"\"\n\u001b[1;32m--> 909\u001b[1;33m         \u001b[0mneeded\u001b[0m \u001b[1;33m=\u001b[0m \u001b[0mself\u001b[0m\u001b[1;33m.\u001b[0m\u001b[0mresolve\u001b[0m\u001b[1;33m(\u001b[0m\u001b[0mparse_requirements\u001b[0m\u001b[1;33m(\u001b[0m\u001b[0mrequirements\u001b[0m\u001b[1;33m)\u001b[0m\u001b[1;33m)\u001b[0m\u001b[1;33m\u001b[0m\u001b[1;33m\u001b[0m\u001b[0m\n\u001b[0m\u001b[0;32m    910\u001b[0m \u001b[1;33m\u001b[0m\u001b[0m\n\u001b[0;32m    911\u001b[0m         \u001b[1;32mfor\u001b[0m \u001b[0mdist\u001b[0m \u001b[1;32min\u001b[0m \u001b[0mneeded\u001b[0m\u001b[1;33m:\u001b[0m\u001b[1;33m\u001b[0m\u001b[1;33m\u001b[0m\u001b[0m\n",
      "\u001b[1;32mC:\\ProgramData\\Anaconda3\\lib\\site-packages\\pkg_resources\\__init__.py\u001b[0m in \u001b[0;36mresolve\u001b[1;34m(self, requirements, env, installer, replace_conflicting, extras)\u001b[0m\n\u001b[0;32m    798\u001b[0m                 \u001b[1;31m# Oops, the \"best\" so far conflicts with a dependency\u001b[0m\u001b[1;33m\u001b[0m\u001b[1;33m\u001b[0m\u001b[1;33m\u001b[0m\u001b[0m\n\u001b[0;32m    799\u001b[0m                 \u001b[0mdependent_req\u001b[0m \u001b[1;33m=\u001b[0m \u001b[0mrequired_by\u001b[0m\u001b[1;33m[\u001b[0m\u001b[0mreq\u001b[0m\u001b[1;33m]\u001b[0m\u001b[1;33m\u001b[0m\u001b[1;33m\u001b[0m\u001b[0m\n\u001b[1;32m--> 800\u001b[1;33m                 \u001b[1;32mraise\u001b[0m \u001b[0mVersionConflict\u001b[0m\u001b[1;33m(\u001b[0m\u001b[0mdist\u001b[0m\u001b[1;33m,\u001b[0m \u001b[0mreq\u001b[0m\u001b[1;33m)\u001b[0m\u001b[1;33m.\u001b[0m\u001b[0mwith_context\u001b[0m\u001b[1;33m(\u001b[0m\u001b[0mdependent_req\u001b[0m\u001b[1;33m)\u001b[0m\u001b[1;33m\u001b[0m\u001b[1;33m\u001b[0m\u001b[0m\n\u001b[0m\u001b[0;32m    801\u001b[0m \u001b[1;33m\u001b[0m\u001b[0m\n\u001b[0;32m    802\u001b[0m             \u001b[1;31m# push the new requirements onto the stack\u001b[0m\u001b[1;33m\u001b[0m\u001b[1;33m\u001b[0m\u001b[1;33m\u001b[0m\u001b[0m\n",
      "\u001b[1;31mContextualVersionConflict\u001b[0m: (click 7.1.2 (c:\\programdata\\anaconda3\\lib\\site-packages), Requirement.parse('click>=7.2'), {'manim'})"
     ]
    }
   ],
   "source": [
    "from manim import *\n",
    "\n",
    "config.media_width = \"30%\"\n",
    "config.verbosity = \"WARNING\""
   ]
  },
  {
   "cell_type": "markdown",
   "metadata": {},
   "source": [
    "# Some examples\n",
    "\n",
    "See: https://try.manim.community/"
   ]
  },
  {
   "cell_type": "code",
   "execution_count": 8,
   "metadata": {
    "colab": {
     "base_uri": "https://localhost:8080/",
     "height": 203,
     "resources": {
      "http://localhost:8080/media/jupyter/SquareToCircle@2024-05-14@12-41-36.mp4": {
       "data": "CjwhRE9DVFlQRSBodG1sPgo8aHRtbCBsYW5nPWVuPgogIDxtZXRhIGNoYXJzZXQ9dXRmLTg+CiAgPG1ldGEgbmFtZT12aWV3cG9ydCBjb250ZW50PSJpbml0aWFsLXNjYWxlPTEsIG1pbmltdW0tc2NhbGU9MSwgd2lkdGg9ZGV2aWNlLXdpZHRoIj4KICA8dGl0bGU+RXJyb3IgNDA0IChOb3QgRm91bmQpISExPC90aXRsZT4KICA8c3R5bGU+CiAgICAqe21hcmdpbjowO3BhZGRpbmc6MH1odG1sLGNvZGV7Zm9udDoxNXB4LzIycHggYXJpYWwsc2Fucy1zZXJpZn1odG1se2JhY2tncm91bmQ6I2ZmZjtjb2xvcjojMjIyO3BhZGRpbmc6MTVweH1ib2R5e21hcmdpbjo3JSBhdXRvIDA7bWF4LXdpZHRoOjM5MHB4O21pbi1oZWlnaHQ6MTgwcHg7cGFkZGluZzozMHB4IDAgMTVweH0qID4gYm9keXtiYWNrZ3JvdW5kOnVybCgvL3d3dy5nb29nbGUuY29tL2ltYWdlcy9lcnJvcnMvcm9ib3QucG5nKSAxMDAlIDVweCBuby1yZXBlYXQ7cGFkZGluZy1yaWdodDoyMDVweH1we21hcmdpbjoxMXB4IDAgMjJweDtvdmVyZmxvdzpoaWRkZW59aW5ze2NvbG9yOiM3Nzc7dGV4dC1kZWNvcmF0aW9uOm5vbmV9YSBpbWd7Ym9yZGVyOjB9QG1lZGlhIHNjcmVlbiBhbmQgKG1heC13aWR0aDo3NzJweCl7Ym9keXtiYWNrZ3JvdW5kOm5vbmU7bWFyZ2luLXRvcDowO21heC13aWR0aDpub25lO3BhZGRpbmctcmlnaHQ6MH19I2xvZ297YmFja2dyb3VuZDp1cmwoLy93d3cuZ29vZ2xlLmNvbS9pbWFnZXMvbG9nb3MvZXJyb3JwYWdlL2Vycm9yX2xvZ28tMTUweDU0LnBuZykgbm8tcmVwZWF0O21hcmdpbi1sZWZ0Oi01cHh9QG1lZGlhIG9ubHkgc2NyZWVuIGFuZCAobWluLXJlc29sdXRpb246MTkyZHBpKXsjbG9nb3tiYWNrZ3JvdW5kOnVybCgvL3d3dy5nb29nbGUuY29tL2ltYWdlcy9sb2dvcy9lcnJvcnBhZ2UvZXJyb3JfbG9nby0xNTB4NTQtMngucG5nKSBuby1yZXBlYXQgMCUgMCUvMTAwJSAxMDAlOy1tb3otYm9yZGVyLWltYWdlOnVybCgvL3d3dy5nb29nbGUuY29tL2ltYWdlcy9sb2dvcy9lcnJvcnBhZ2UvZXJyb3JfbG9nby0xNTB4NTQtMngucG5nKSAwfX1AbWVkaWEgb25seSBzY3JlZW4gYW5kICgtd2Via2l0LW1pbi1kZXZpY2UtcGl4ZWwtcmF0aW86Mil7I2xvZ297YmFja2dyb3VuZDp1cmwoLy93d3cuZ29vZ2xlLmNvbS9pbWFnZXMvbG9nb3MvZXJyb3JwYWdlL2Vycm9yX2xvZ28tMTUweDU0LTJ4LnBuZykgbm8tcmVwZWF0Oy13ZWJraXQtYmFja2dyb3VuZC1zaXplOjEwMCUgMTAwJX19I2xvZ297ZGlzcGxheTppbmxpbmUtYmxvY2s7aGVpZ2h0OjU0cHg7d2lkdGg6MTUwcHh9CiAgPC9zdHlsZT4KICA8YSBocmVmPS8vd3d3Lmdvb2dsZS5jb20vPjxzcGFuIGlkPWxvZ28gYXJpYS1sYWJlbD1Hb29nbGU+PC9zcGFuPjwvYT4KICA8cD48Yj40MDQuPC9iPiA8aW5zPlRoYXTigJlzIGFuIGVycm9yLjwvaW5zPgogIDxwPiAgPGlucz5UaGF04oCZcyBhbGwgd2Uga25vdy48L2lucz4K",
       "headers": [
        [
         "content-length",
         "1449"
        ],
        [
         "content-type",
         "text/html; charset=utf-8"
        ]
       ],
       "ok": false,
       "status": 404,
       "status_text": ""
      }
     }
    },
    "id": "t9v-z-tEFOl3",
    "outputId": "cb102a17-c92f-4081-e229-8f0ae0464fb5"
   },
   "outputs": [
    {
     "data": {
      "text/html": [
       "<pre style=\"white-space:pre;overflow-x:auto;line-height:normal;font-family:Menlo,'DejaVu Sans Mono',consolas,'Courier New',monospace\">Manim Community <span style=\"color: #008000; text-decoration-color: #008000\">v0.18.1</span>\n",
       "\n",
       "</pre>\n"
      ],
      "text/plain": [
       "Manim Community \u001b[32mv0.\u001b[0m\u001b[32m18.1\u001b[0m\n",
       "\n"
      ]
     },
     "metadata": {},
     "output_type": "display_data"
    },
    {
     "name": "stderr",
     "output_type": "stream",
     "text": []
    },
    {
     "data": {
      "text/html": [
       "<video src=\"media/jupyter/SquareToCircle@2024-05-14@12-41-36.mp4\" controls autoplay loop style=\"max-width: 60%;\"  >\n",
       "      Your browser does not support the <code>video</code> element.\n",
       "    </video>"
      ],
      "text/plain": [
       "<IPython.core.display.Video object>"
      ]
     },
     "metadata": {},
     "output_type": "display_data"
    }
   ],
   "source": [
    "%%manim -qm SquareToCircle\n",
    "\n",
    "class SquareToCircle(Scene):\n",
    "   def construct(self):\n",
    "      square = Square()\n",
    "      circle = Circle()\n",
    "      circle.set_fill(PINK, opacity=0.5)\n",
    "      self.play(Create(square))\n",
    "      self.play(Transform(square, circle))\n",
    "      self.wait(1)"
   ]
  },
  {
   "cell_type": "code",
   "execution_count": 7,
   "metadata": {
    "id": "r-yApdHRGXCU"
   },
   "outputs": [
    {
     "ename": "NameError",
     "evalue": "name 'Scene' is not defined",
     "output_type": "error",
     "traceback": [
      "\u001b[1;31m---------------------------------------------------------------------------\u001b[0m",
      "\u001b[1;31mNameError\u001b[0m                                 Traceback (most recent call last)",
      "\u001b[1;32m~\\AppData\\Local\\Temp\\ipykernel_18088\\1796832259.py\u001b[0m in \u001b[0;36m<module>\u001b[1;34m\u001b[0m\n\u001b[1;32m----> 1\u001b[1;33m \u001b[1;32mclass\u001b[0m \u001b[0mInscribedSquare\u001b[0m\u001b[1;33m(\u001b[0m\u001b[0mScene\u001b[0m\u001b[1;33m)\u001b[0m\u001b[1;33m:\u001b[0m\u001b[1;33m\u001b[0m\u001b[1;33m\u001b[0m\u001b[0m\n\u001b[0m\u001b[0;32m      2\u001b[0m     \u001b[1;32mdef\u001b[0m \u001b[0mconstruct\u001b[0m\u001b[1;33m(\u001b[0m\u001b[0mself\u001b[0m\u001b[1;33m)\u001b[0m\u001b[1;33m:\u001b[0m\u001b[1;33m\u001b[0m\u001b[1;33m\u001b[0m\u001b[0m\n\u001b[0;32m      3\u001b[0m         \u001b[1;31m# Create a circle\u001b[0m\u001b[1;33m\u001b[0m\u001b[1;33m\u001b[0m\u001b[1;33m\u001b[0m\u001b[0m\n\u001b[0;32m      4\u001b[0m         \u001b[0mcircle\u001b[0m \u001b[1;33m=\u001b[0m \u001b[0mCircle\u001b[0m\u001b[1;33m(\u001b[0m\u001b[1;33m)\u001b[0m\u001b[1;33m\u001b[0m\u001b[1;33m\u001b[0m\u001b[0m\n\u001b[0;32m      5\u001b[0m         \u001b[0mcircle\u001b[0m\u001b[1;33m.\u001b[0m\u001b[0mset_fill\u001b[0m\u001b[1;33m(\u001b[0m\u001b[0mBLUE\u001b[0m\u001b[1;33m,\u001b[0m \u001b[0mopacity\u001b[0m\u001b[1;33m=\u001b[0m\u001b[1;36m0.5\u001b[0m\u001b[1;33m)\u001b[0m\u001b[1;33m\u001b[0m\u001b[1;33m\u001b[0m\u001b[0m\n",
      "\u001b[1;31mNameError\u001b[0m: name 'Scene' is not defined"
     ]
    }
   ],
   "source": [
    "%%manim -qm InscribedSquare\n",
    "\n",
    "class InscribedSquare(Scene):\n",
    "    def construct(self):\n",
    "        # Create a circle\n",
    "        circle = Circle()\n",
    "        circle.set_fill(BLUE, opacity=0.5)\n",
    "        circle.set_stroke(color=WHITE, width=2)\n",
    "\n",
    "        # Create a square\n",
    "        square = Square()\n",
    "        square.set_fill(RED, opacity=0.5)\n",
    "        square.set_stroke(color=WHITE, width=2)\n",
    "\n",
    "        # Rotate and scale the square to inscribe it in the circle\n",
    "        square.rotate(PI / 4)\n",
    "        square.scale(np.sqrt(2) / 2)\n",
    "\n",
    "        # Animate the creation of the circle and the square\n",
    "        self.play(Create(circle), run_time = 1)\n",
    "        self.play(Create(square), run_time = 1)"
   ]
  },
  {
   "cell_type": "markdown",
   "metadata": {},
   "source": [
    "# Geometric Proof \n",
    "$(a+b)^2 = a^2 + 2ab + b^2$"
   ]
  },
  {
   "cell_type": "code",
   "execution_count": null,
   "metadata": {},
   "outputs": [],
   "source": [
    "%%manim -qm SquareABCD\n",
    "\n",
    "class SquareABCD(Scene):\n",
    "    def construct(self):\n",
    "        # Create a larger square with a longer animation time\n",
    "        square = Square(side_length=6)  # Increased size\n",
    "        square.set_stroke(color=WHITE, width=2)\n",
    "        square.set_fill(BLUE, opacity=0.5)\n",
    "        self.play(Create(square), run_time=3)  # Extended creation time for the square\n",
    "\n",
    "        # Define and animate vertex labels one by one\n",
    "        vertex_labels = [\"A\", \"B\", \"C\", \"D\"]\n",
    "        positions = [UL, UR, DR, DL]\n",
    "        for label, position in zip(vertex_labels, positions):\n",
    "            vertex_label = Text(label).next_to(square.get_corner(position), position, buff=0.1)\n",
    "            self.play(Write(vertex_label), run_time=1)  # Adjust run_time as needed for pacing\n",
    "            self.wait(0.5)  # Pause between each label\n",
    "\n",
    "\n",
    "\n"
   ]
  },
  {
   "cell_type": "code",
   "execution_count": null,
   "metadata": {},
   "outputs": [],
   "source": [
    "%%manim -qm SquareABCDWithPoint\n",
    "\n",
    "class SquareABCDWithPoint(Scene):\n",
    "    def construct(self):\n",
    "        # Create and display the square\n",
    "        square = Square(side_length=4)\n",
    "        square.set_stroke(color=WHITE, width=2)\n",
    "        square.set_fill(BLUE, opacity=0.5)\n",
    "        self.play(Create(square), run_time=3)\n",
    "\n",
    "        # Add and display vertex labels\n",
    "        vertex_labels = {\"A\": UL, \"B\": UR, \"C\": DR, \"D\": DL}\n",
    "        labels = {key: Text(key).next_to(square.get_corner(value), value, buff=0.1) for key, value in vertex_labels.items()}\n",
    "        for label in labels.values():\n",
    "            self.play(Write(label), run_time=1)\n",
    "            self.wait(0.25)\n",
    "\n",
    "        # Place point P on side AB, display it, and label it\n",
    "        p_point = Dot(color=RED).move_to(square.get_side_length() * 1/3 * RIGHT + square.get_corner(UL))\n",
    "        self.play(FadeIn(p_point), run_time=1)\n",
    "        p_label = Text(\"P\", color=RED).next_to(p_point, UP, buff=0.1)\n",
    "        labels[\"P\"] = p_label  # Add P label to the labels dictionary\n",
    "        self.play(Write(p_label))\n",
    "        self.wait(1)\n",
    "\n",
    "        # Calculate midpoints for labels 'a' and 'b'\n",
    "        midpoint_a = (square.get_corner(UL) + p_point.get_center()) / 2\n",
    "        midpoint_b = (p_point.get_center() + square.get_corner(UR)) / 2\n",
    "\n",
    "        # Highlight A and P, then display the 'a' label\n",
    "        self.play(labels[\"A\"].animate.set_color(YELLOW), labels[\"P\"].animate.set_color(YELLOW))\n",
    "        line_ap = Line(square.get_corner(UL), p_point)\n",
    "        line_ap.set_stroke(color=YELLOW, width=2)\n",
    "        self.play(Create(line_ap))\n",
    "        a_label = Text(\"a\").move_to(midpoint_a).shift(UP * 0.4)\n",
    "        self.play(Write(a_label))\n",
    "        self.wait(1)\n",
    "        self.play(FadeOut(line_ap), labels[\"A\"].animate.set_color(WHITE), labels[\"P\"].animate.set_color(RED))\n",
    "\n",
    "        # Highlight P and B, then display the 'b' label\n",
    "        self.play(labels[\"P\"].animate.set_color(YELLOW), labels[\"B\"].animate.set_color(YELLOW))\n",
    "        line_pb = Line(p_point, square.get_corner(UR))\n",
    "        line_pb.set_stroke(color=YELLOW, width=2)\n",
    "        self.play(Create(line_pb))\n",
    "        b_label = Text(\"b\").move_to(midpoint_b).shift(UP * 0.4)\n",
    "        self.play(Write(b_label))\n",
    "        self.wait(1)\n",
    "        self.play(FadeOut(line_pb), labels[\"P\"].animate.set_color(RED), labels[\"B\"].animate.set_color(WHITE))\n",
    "\n",
    "\n"
   ]
  },
  {
   "cell_type": "code",
   "execution_count": null,
   "metadata": {},
   "outputs": [],
   "source": [
    "%%manim -qm SquareABCDWithPointRefactored\n",
    "\n",
    "class SquareABCDWithPointRefactored(Scene):\n",
    "    def highlight_and_connect(self, label1, label2, point1, point2, line_color, label_name, midpoint, shift_val):\n",
    "        # Highlight points\n",
    "        self.play(label1.animate.set_color(YELLOW), label2.animate.set_color(YELLOW))\n",
    "        \n",
    "        # Draw a line between points\n",
    "        line = Line(point1, point2)\n",
    "        line.set_stroke(color=line_color, width=2)\n",
    "        self.play(Create(line))\n",
    "        \n",
    "        # Label the line\n",
    "        label = Text(label_name).move_to(midpoint).shift(shift_val)\n",
    "        self.play(Write(label))\n",
    "        self.wait(.1)\n",
    "        \n",
    "        # Clear the line and reset label colors\n",
    "        self.play(FadeOut(line), label1.animate.set_color(WHITE), label2.animate.set_color(RED))\n",
    "\n",
    "    def place_and_label_point(self, point_location, label_name, point_color, shift_val):\n",
    "        point = Dot(color=point_color).move_to(point_location)\n",
    "        self.play(FadeIn(point), run_time=0.2)\n",
    "        label = Text(label_name, color=point_color).next_to(point, shift_val, buff=0.1)\n",
    "        self.play(Write(label))\n",
    "        self.wait(.1)\n",
    "        return point, label\n",
    "\n",
    "    def construct(self):\n",
    "        # Create and display the square\n",
    "        square = Square(side_length=4)\n",
    "        square.set_stroke(color=WHITE, width=2)\n",
    "        square.set_fill(BLUE, opacity=0.5)\n",
    "        self.play(Create(square), run_time=1.5)\n",
    "\n",
    "        # Add and display vertex labels\n",
    "        vertex_labels = {\"A\": UL, \"B\": UR, \"C\": DR, \"D\": DL}\n",
    "        labels = {key: Text(key).next_to(square.get_corner(value), value, buff=0.1) for key, value in vertex_labels.items()}\n",
    "        for label in labels.values():\n",
    "            self.play(Write(label), run_time=1)\n",
    "            self.wait(0.25)\n",
    "\n",
    "        # FOR SIDE AB\n",
    "        # Place point P on side AB, label it, and highlight segments\n",
    "        p_point, p_label = self.place_and_label_point(square.get_side_length() * 1/3 * RIGHT + square.get_corner(UL), \"P\", RED, UP)\n",
    "        labels[\"P\"] = p_label\n",
    "        midpoint_a = (square.get_corner(UL) + p_point.get_center()) / 2\n",
    "        midpoint_b = (p_point.get_center() + square.get_corner(UR)) / 2\n",
    "\n",
    "        # Highlight and connect A and P, then B and P\n",
    "        self.highlight_and_connect(labels[\"A\"], p_label, square.get_corner(UL), p_point, YELLOW, \"a\", midpoint_a, UP * 0.4)\n",
    "        self.highlight_and_connect(p_label, labels[\"B\"], p_point, square.get_corner(UR), YELLOW, \"b\", midpoint_b, UP * 0.4)\n",
    "        \n",
    "        # FOR SIDE BC\n",
    "        # Place point Q on side BC, label it, and highlight segments\n",
    "        q_point, q_label = self.place_and_label_point(square.get_side_length() * 2/3 * DOWN + square.get_corner(UR), \"Q\", GREEN, RIGHT)\n",
    "        labels[\"Q\"] = q_label\n",
    "        midpoint_c = (square.get_corner(UR) + q_point.get_center()) / 2\n",
    "        midpoint_d = (q_point.get_center() + square.get_corner(DR)) / 2\n",
    "\n",
    "        # Highlight and connect B and Q, then Q and C\n",
    "        self.highlight_and_connect(labels[\"B\"], q_label, square.get_corner(UR), q_point, YELLOW, \"b\", midpoint_c, RIGHT * 0.4 + UP * 0.2)\n",
    "        self.highlight_and_connect(q_label, labels[\"C\"], q_point, square.get_corner(DR), YELLOW, \"a\", midpoint_d, RIGHT * 0.4 + DOWN * 0.2)\n",
    "\n",
    "        # FOR SIDE CD\n",
    "        r_point, r_label = self.place_and_label_point(square.get_side_length() * 1/3 * LEFT + square.get_corner(DR), \"R\", BLUE, DOWN)\n",
    "        labels[\"R\"] = r_label\n",
    "        midpoint_e = (square.get_corner(DR) + r_point.get_center()) / 2\n",
    "        midpoint_f = (r_point.get_center() + square.get_corner(DL)) / 2\n",
    "\n",
    "        self.highlight_and_connect(labels[\"C\"], r_label, square.get_corner(DR), r_point, YELLOW, \"a\", midpoint_e, DOWN * 0.4 + RIGHT * 0.2)\n",
    "        self.highlight_and_connect(r_label, labels[\"D\"], r_point, square.get_corner(DL), YELLOW, \"b\", midpoint_f, DOWN * 0.4 + LEFT * 0.2)\n",
    "\n",
    "        # FOR SIDE AD\n",
    "        s_point, s_label = self.place_and_label_point(square.get_side_length() * 2/3 * UP + square.get_corner(DL), \"S\", PURPLE, LEFT)\n",
    "        labels[\"S\"] = s_label\n",
    "        midpoint_g = (square.get_corner(DL) + s_point.get_center()) / 2\n",
    "        midpoint_h = (s_point.get_center() + square.get_corner(UL)) / 2\n",
    "\n",
    "        self.highlight_and_connect(labels[\"D\"], s_label, square.get_corner(DL), s_point, YELLOW, \"b\", midpoint_g, LEFT * 0.4 + DOWN * 0.2)\n",
    "        self.highlight_and_connect(s_label, labels[\"A\"], s_point, square.get_corner(UL), YELLOW, \"a\", midpoint_h, LEFT * 0.4 + UP * 0.2)\n",
    "\n",
    "\n",
    "\n"
   ]
  },
  {
   "cell_type": "code",
   "execution_count": null,
   "metadata": {},
   "outputs": [],
   "source": [
    "%%manim -qm anim_aplusbsq\n",
    "\n",
    "class anim_aplusbsq(Scene):\n",
    "    def highlight_and_connect(self, label1, label2, point1, point2, line_color, label_name, midpoint, shift_val):\n",
    "        # Highlight points\n",
    "        self.play(label1.animate.set_color(YELLOW), label2.animate.set_color(YELLOW))\n",
    "        \n",
    "        # Draw a line between points\n",
    "        line = Line(point1, point2)\n",
    "        line.set_stroke(color=line_color, width=2)\n",
    "        self.play(Create(line))\n",
    "        \n",
    "        # Label the line\n",
    "        label = Text(label_name,font_size=15).move_to(midpoint).shift(shift_val)\n",
    "        self.play(Write(label),run_time=.1)\n",
    "        self.wait(.1)\n",
    "        \n",
    "        # Clear the line and reset label colors\n",
    "        self.play(FadeOut(line), label1.animate.set_color(WHITE), label2.animate.set_color(WHITE),run_time=.1)\n",
    "\n",
    "        return line, label \n",
    "\n",
    "    def place_and_label_point(self, point_location, label_name, point_color, shift_val):\n",
    "        point = Dot(color=point_color).move_to(point_location)\n",
    "        self.play(FadeIn(point), run_time=0.2)\n",
    "        label = Text(label_name, font_size=15, color=point_color).next_to(point, shift_val, buff=0.1)\n",
    "        self.play(Write(label))\n",
    "        self.wait(.1)\n",
    "        return point, label\n",
    "\n",
    "    def construct(self):\n",
    "        # Create and display the square\n",
    "        square = Square(side_length=4)\n",
    "        square.set_stroke(color=WHITE, width=2)\n",
    "        square.set_fill(BLUE, opacity=0.5)\n",
    "        self.play(Create(square), run_time=1.5)\n",
    "\n",
    "        # Add and display vertex labels\n",
    "        vertex_labels = {\"A\": UL, \"B\": UR, \"C\": DR, \"D\": DL}\n",
    "        labels = {key: Text(key, font_size=15).next_to(square.get_corner(value), value, buff=0.1) for key, value in vertex_labels.items()}\n",
    "        for label in labels.values():\n",
    "            self.play(Write(label), run_time=1)\n",
    "            self.wait(0.25)\n",
    "\n",
    "        # FOR SIDE AB\n",
    "        # Place point P on side AB, label it, and highlight segments\n",
    "        p_point, p_label = self.place_and_label_point(square.get_side_length() * 1/3 * RIGHT + square.get_corner(UL), \"P\", RED, UP)\n",
    "        labels[\"P\"] = p_label\n",
    "        midpoint_AP = (square.get_corner(UL) + p_point.get_center()) / 2\n",
    "        midpoint_PB = (p_point.get_center() + square.get_corner(UR)) / 2\n",
    "\n",
    "        # Highlight and connect A and P, then B and P\n",
    "        line_ap, label_a1 = self.highlight_and_connect(labels[\"A\"], p_label, square.get_corner(UL), p_point, YELLOW, \"a\", midpoint_AP, UP * 0.4)\n",
    "        line_pb, label_b1 = self.highlight_and_connect(p_label, labels[\"B\"], p_point, square.get_corner(UR), YELLOW, \"b\", midpoint_PB, UP * 0.4)\n",
    "        \n",
    "         # FOR SIDE AD\n",
    "        q_point, q_label = self.place_and_label_point(square.get_side_length() * 2/3 * UP + square.get_corner(DL), \"Q\", PURPLE, LEFT)\n",
    "        labels[\"Q\"] = q_label\n",
    "        midpoint_AQ = (square.get_corner(DL) + q_point.get_center()) / 2\n",
    "        midpoint_QD = (q_point.get_center() + square.get_corner(UL)) / 2\n",
    "        \n",
    "        line_aq, label_a2 = self.highlight_and_connect(q_label, labels[\"A\"], q_point, square.get_corner(UL), YELLOW, \"a\", midpoint_QD, LEFT * 0.4 + UP * 0.2)\n",
    "        line_qd, label_b2 = self.highlight_and_connect(labels[\"D\"], q_label, square.get_corner(DL), q_point, YELLOW, \"b\", midpoint_AQ, LEFT * 0.4 + DOWN * 0.2)\n",
    "\n",
    "        # Draw line PR parallel to BC so that PB = QC = b\n",
    "        r_point = p_point.copy().shift(DOWN * square.get_side_length())\n",
    "        self.play(FadeIn(r_point))\n",
    "        r_label = Text(\"R\", font_size = 15, color=RED).next_to(r_point, DOWN, buff=0.1)\n",
    "        self.play(Write(r_label))\n",
    "\n",
    "        \n",
    "\n",
    "        # highlight that DR = AP = a by using highlight_and_connect for points D and R and adding label \"a\" to represent side length of DR. \n",
    "        \n",
    "        # Highlight and connect D and R, then label DR as 'a'\n",
    "        midpoint_DR = (labels[\"D\"].get_center() + r_point.get_center()) / 2\n",
    "        line_dr, label_a3 = self.highlight_and_connect(labels[\"D\"], r_label, square.get_corner(DL), r_point, YELLOW, \"a\", midpoint_DR, DOWN*0.4)\n",
    "\n",
    "        # Draw the line PR\n",
    "        line_pr = Line(p_point, r_point)\n",
    "        line_pr.set_stroke(color=RED, width=2)\n",
    "        self.play(Create(line_pr))\n",
    "\n",
    "        # Draw line QS parallel to AB intersecting PR at point T\n",
    "        s_point = q_point.copy().shift(RIGHT * square.get_side_length())\n",
    "        self.play(FadeIn(s_point))\n",
    "        s_label = Text(\"S\", font_size = 15, color=PURPLE).next_to(s_point, RIGHT, buff=0.1)\n",
    "        self.play(Write(s_label))\n",
    "\n",
    "        # Draw the line QS\n",
    "        line_qs = Line(q_point, s_point)\n",
    "        line_qs.set_stroke(color=PURPLE, width=2)\n",
    "        self.play(Create(line_qs))\n",
    "\n",
    "        # Highlight and connect B and S, then label BS with 'a' length\n",
    "        midpoint_BS = (labels[\"B\"].get_center() + s_point.get_center()) / 2\n",
    "        line_bs, label_a4 = self.highlight_and_connect(labels[\"B\"], s_label, square.get_corner(UR), s_point, YELLOW, \"a\", midpoint_BS, RIGHT * 0.4)\n",
    "\n",
    "\n",
    "        # Since QS is parallel to AB and intersects PR, T is at the same y-coordinate as Q and the same x-coordinate as R\n",
    "        t_point = Dot(color=GREEN).move_to([r_point.get_x(), q_point.get_y(), 0])\n",
    "        t_label = Text(\"T\", font_size = 15, color=GREEN).next_to(t_point, DOWN+RIGHT, buff=0.1)\n",
    "        self.play(FadeIn(t_point), Write(t_label))\n",
    "\n",
    "        # Highlight and connect pionts P and T, then label PT with 'a' length, then points T and R and label TR with 'b'\n",
    "        # Highlight and connect pionts Q and T, then label QT with 'a' length, then points T and S and label TS with 'b'\n",
    "\n",
    "        # Highlight and connect P and T, then label PT with 'a' length\n",
    "        midpoint_PT = (p_point.get_center() + t_point.get_center()) / 2\n",
    "        line_pt, label_a5 = self.highlight_and_connect(p_label, t_label, p_point, t_point, YELLOW, \"a\", midpoint_PT, LEFT * 0.4)\n",
    "\n",
    "        # Highlight and connect T and R, then label TR with 'b'\n",
    "        midpoint_TR = (t_point.get_center() + r_point.get_center()) / 2\n",
    "        line_tr, label_b3 = self.highlight_and_connect(t_label, r_label, t_point, r_point, YELLOW, \"b\", midpoint_TR, RIGHT * 0.4)\n",
    "\n",
    "        # Highlight and connect Q and T, then label QT with 'a' length\n",
    "        midpoint_QT = (q_point.get_center() + t_point.get_center()) / 2\n",
    "        line_qt, label_a6 = self.highlight_and_connect(q_label, t_label, q_point, t_point, YELLOW, \"a\", midpoint_QT, LEFT * 0.4)\n",
    "\n",
    "        # Highlight and connect T and S, then label TS with 'b'\n",
    "        midpoint_TS = (t_point.get_center() + s_point.get_center()) / 2\n",
    "        line_ts, label_b4 = self.highlight_and_connect(t_label, s_label, t_point, s_point, YELLOW, \"b\", midpoint_TS, RIGHT * 0.4)\n",
    "\n",
    "        # Highlighting the squares/rectangles\n",
    "        apqt = Polygon(square.get_corner(UL), p_point.get_center(), t_point.get_center(), q_point.get_center(), color=GREEN)\n",
    "        apqt.set_fill(GREEN, opacity=0.5)\n",
    "        self.play(FadeIn(apqt), run_time=1)\n",
    "\n",
    "        pbst = Polygon(p_point.get_center(), square.get_corner(UR), s_point.get_center(), t_point.get_center(), color=RED)\n",
    "        pbst.set_fill(RED, opacity=0.5)\n",
    "        self.play(FadeIn(pbst), run_time=1)\n",
    "\n",
    "        scrt = Polygon(s_point.get_center(), square.get_corner(DR), r_point.get_center(), t_point.get_center(), color=BLUE)\n",
    "        scrt.set_fill(BLUE, opacity=0.5)\n",
    "        self.play(FadeIn(scrt), run_time=1)\n",
    "\n",
    "        qtrd = Polygon(q_point.get_center(), t_point.get_center(), r_point.get_center(), square.get_corner(DL), color=YELLOW)\n",
    "        qtrd.set_fill(YELLOW, opacity=0.5)\n",
    "        self.play(FadeIn(qtrd), run_time=1)\n",
    "\n",
    "        # Move the entire ABCD configuration to the left\n",
    "        entire_figure_group = VGroup(square, apqt, pbst, scrt, qtrd, p_point, r_point, q_point, t_point, s_point, p_label, q_label, r_label, s_label, t_label, line_pr, line_qs, label_a1, label_a2, label_a3, label_a4, label_a5, label_a6, label_b1, label_b2, label_b3, label_b4, *labels.values())\n",
    "        \n",
    "        self.play(entire_figure_group.animate.scale(.5).shift(LEFT * 3), run_time=2)\n",
    "\n",
    "        \n",
    "        \n",
    "        #add labels to the shapes\n",
    "        apqt_labels = VGroup(\n",
    "            Text(\"A\", font_size=10).next_to(apqt.get_corner(UL), UL, buff=0.1),\n",
    "            Text(\"P\", font_size=10).next_to(apqt.get_corner(UR), UR, buff=0.1),\n",
    "            Text(\"T\", font_size=10).next_to(apqt.get_corner(DR), DR, buff=0.1),\n",
    "            Text(\"Q\", font_size=10).next_to(apqt.get_corner(DL), DL, buff=0.1)\n",
    "        )\n",
    "\n",
    "        # Separating and moving the highlighted shapes to the right\n",
    "        # include labels\n",
    "        \n",
    "        # Moving APQT and its labels to the right\n",
    "        self.play(apqt.animate.shift(RIGHT * 6 + UP), apqt_labels.animate.shift(RIGHT * 6 + UP), run_time=2)\n",
    "\n",
    "        # Labeling and moving PBST\n",
    "        pbst_labels = VGroup(\n",
    "            Text(\"P\", font_size=10).next_to(pbst.get_corner(UL), UL, buff=0.1),\n",
    "            Text(\"B\", font_size=10).next_to(pbst.get_corner(UR), UR, buff=0.1),\n",
    "            Text(\"S\", font_size=10).next_to(pbst.get_corner(DR), DR, buff=0.1),\n",
    "            Text(\"T\", font_size=10).next_to(pbst.get_corner(DL), DL, buff=0.1)\n",
    "        )\n",
    "        self.play(pbst.animate.shift(RIGHT * 7 + UP * 1), pbst_labels.animate.shift(RIGHT * 7 + UP * 1), run_time=2)\n",
    "\n",
    "        # Labeling and moving SCRT\n",
    "        scrt_labels = VGroup(\n",
    "            Text(\"T\", font_size=10).next_to(scrt.get_corner(UL), UL, buff=0.1),\n",
    "            Text(\"S\", font_size=10).next_to(scrt.get_corner(UR), UR, buff=0.1),\n",
    "            Text(\"C\", font_size=10).next_to(scrt.get_corner(DR), DR, buff=0.1),\n",
    "            Text(\"R\", font_size=10).next_to(scrt.get_corner(DL), DL, buff=0.1)\n",
    "        )\n",
    "        self.play(scrt.animate.shift(RIGHT * 7), scrt_labels.animate.shift(RIGHT * 7), run_time=2)\n",
    "\n",
    "        # Labeling and moving QTRD\n",
    "        qtrd_labels = VGroup(\n",
    "            Text(\"Q\", font_size=10).next_to(qtrd.get_corner(UL), UL, buff=0.1),\n",
    "            Text(\"T\", font_size=10).next_to(qtrd.get_corner(UR), UR, buff=0.1),\n",
    "            Text(\"R\", font_size=10).next_to(qtrd.get_corner(DR), DR, buff=0.1),\n",
    "            Text(\"D\", font_size=10).next_to(qtrd.get_corner(DL), DL, buff=0.1)\n",
    "        )\n",
    "        self.play(qtrd.animate.shift(RIGHT * 6), qtrd_labels.animate.shift(RIGHT * 6), run_time=2)\n"
   ]
  }
 ],
 "metadata": {
  "colab": {
   "provenance": []
  },
  "kernelspec": {
   "display_name": "Python 3 (ipykernel)",
   "language": "python",
   "name": "python3"
  },
  "language_info": {
   "codemirror_mode": {
    "name": "ipython",
    "version": 3
   },
   "file_extension": ".py",
   "mimetype": "text/x-python",
   "name": "python",
   "nbconvert_exporter": "python",
   "pygments_lexer": "ipython3",
   "version": "3.7.13"
  }
 },
 "nbformat": 4,
 "nbformat_minor": 1
}
